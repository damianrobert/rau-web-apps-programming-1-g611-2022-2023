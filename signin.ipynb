{
  "nbformat": 4,
  "nbformat_minor": 0,
  "metadata": {
    "colab": {
      "provenance": []
    },
    "kernelspec": {
      "name": "python3",
      "display_name": "Python 3"
    },
    "language_info": {
      "name": "python"
    }
  },
  "cells": [
    {
      "cell_type": "code",
      "source": [
        "import json"
      ],
      "metadata": {
        "id": "CKSi5FroyKfg"
      },
      "execution_count": 1,
      "outputs": []
    },
    {
      "cell_type": "code",
      "execution_count": 8,
      "metadata": {
        "id": "EOOxEbF2yFLK"
      },
      "outputs": [],
      "source": [
        "def validate_email(email):\n",
        "  email = email.lower()\n",
        "  email = email.replace(\" \", \"\")\n",
        "\n",
        "  email_parts = email.split(\"@\")\n",
        "\n",
        "  if len(email_parts) > 2:\n",
        "    raise ValueError(\"Email is not formatted correctly. Please try again.\")\n",
        "  \n",
        "  second_part = email_parts[1]\n",
        "\n",
        "  email_ending = second_part.split(\".\")\n",
        "\n",
        "  if len(email_ending) > 2:\n",
        "    raise ValueError(\"Email is not formatted correctly. Please try again.\")\n",
        "\n",
        "  return email\n",
        "\n",
        "special_characters = [\"*\", \"?\", \"!\", \"#\", \"&\", \"=\", \"(\", \")\", \"_\", \"-\"]\n",
        "\n",
        "def validate_password(password): \n",
        "  # eliminate spaces\n",
        "  present_spaces = password.find(\" \")\n",
        "  if present_spaces > -1:\n",
        "    raise ValueError(\"Invalid password. Password contains spaces.\")\n",
        "  \n",
        "  # validate length\n",
        "  if len(password) < 8:\n",
        "    raise ValueError(\"Invalid password. Password too short. Minimum 8 characters required.\")\n",
        "  \n",
        "  # validate special characters\n",
        "  present_special = 0\n",
        "  present_digits = 0\n",
        "  present_upper = 0\n",
        "  for character in password:\n",
        "    if character in special_characters:\n",
        "      present_special += 1 # present_special_characters = present_special_characters + 1\n",
        "    \n",
        "    if character.isdigit():\n",
        "      present_digits += 1\n",
        "\n",
        "    if character.isupper():\n",
        "      present_upper += 1\n",
        "\n",
        "    if present_special and present_digits and present_upper:\n",
        "      break\n",
        "\n",
        "  if present_special == 0:\n",
        "    raise ValueError(\"Invalid password. Special characters are missing.\")\n",
        "\n",
        "  if present_digits == 0:\n",
        "    raise ValueError(\"Invalid password. Missing at least one digit.\")\n",
        "\n",
        "  if present_upper == 0:\n",
        "    raise ValueError(\"Invalid password. Missing at least one upper case letter.\")\n",
        "\n",
        "  return password"
      ]
    },
    {
      "cell_type": "code",
      "source": [
        "def load_users(filename):\n",
        "  with open(filename, \"r\") as f:\n",
        "    users = json.load(f)\n",
        "\n",
        "  return users\n",
        "\n",
        "\n",
        "def get_user_by_email(email, users):\n",
        "  for user in users:\n",
        "    if user[\"email\"] == email:\n",
        "      return user\n",
        "  \n",
        "\n",
        "def signin(user_details, filename=\"users_database.txt\"):\n",
        "  # incarca utilizatorii existenti in memorie\n",
        "  users = load_users(filename)\n",
        "\n",
        "  # verifica / valideaza user email\n",
        "  user_details[\"email\"] = validate_email(user_details[\"email\"])\n",
        "\n",
        "  # verifica / valideaza user pass\n",
        "  user_details[\"password\"] = validate_password(user_details[\"password\"])\n",
        "\n",
        "  # verifica daca exista utilizatorul bazat pe email\n",
        "  existing_user = get_user_by_email(user_details[\"email\"], users)\n",
        "\n",
        "  # daca utilizatorul exista si are parola corect, return True\n",
        "  if existing_user is not None and existing_user[\"password\"] == user_details[\"password\"]:\n",
        "    return True\n",
        "\n",
        "  return False"
      ],
      "metadata": {
        "id": "g5pc80-3yM7_"
      },
      "execution_count": 18,
      "outputs": []
    },
    {
      "cell_type": "code",
      "source": [
        "# Test\n",
        "filename = \"users_database.json\"\n",
        "existing_users = load_users(filename)\n",
        "existing_users"
      ],
      "metadata": {
        "colab": {
          "base_uri": "https://localhost:8080/"
        },
        "id": "Rx5oQgc7yjRA",
        "outputId": "8dfa4601-4f9b-44e2-9df0-951faacea23e"
      },
      "execution_count": 19,
      "outputs": [
        {
          "output_type": "execute_result",
          "data": {
            "text/plain": [
              "[{'name': 'B C',\n",
              "  'email': 'a@c.com',\n",
              "  'password': 'ysfhreA31!_-33',\n",
              "  'second_password': 'ysfhreA31!_-33'},\n",
              " {'name': 'B C',\n",
              "  'email': 'ae@c.com',\n",
              "  'password': 'ysfhreA31!_-33',\n",
              "  'second_password': 'ysfhreA31!_-33'},\n",
              " {'name': 'B C',\n",
              "  'email': 'are@c.com',\n",
              "  'password': 'ysfhreA31!_-33',\n",
              "  'second_password': 'ysfhreA31!_-33'},\n",
              " {'name': 'B C',\n",
              "  'email': 'y@c.com',\n",
              "  'password': 'ysfhreA31!_-33',\n",
              "  'second_password': 'ysfhreA31!_-33'}]"
            ]
          },
          "metadata": {},
          "execution_count": 19
        }
      ]
    },
    {
      "cell_type": "code",
      "source": [
        "user_details = {\n",
        "    \"email\": \"a@c.com\",\n",
        "    \"password\": \"ysfhreA31!_-33\"\n",
        "}\n",
        "signin(user_details, filename)"
      ],
      "metadata": {
        "colab": {
          "base_uri": "https://localhost:8080/"
        },
        "id": "t3HBHNKUzYFo",
        "outputId": "ee11cd8f-815e-4028-cc08-e1e68de6c697"
      },
      "execution_count": 21,
      "outputs": [
        {
          "output_type": "execute_result",
          "data": {
            "text/plain": [
              "True"
            ]
          },
          "metadata": {},
          "execution_count": 21
        }
      ]
    },
    {
      "cell_type": "code",
      "source": [],
      "metadata": {
        "id": "U8EztJ0A1WvH"
      },
      "execution_count": null,
      "outputs": []
    }
  ]
}