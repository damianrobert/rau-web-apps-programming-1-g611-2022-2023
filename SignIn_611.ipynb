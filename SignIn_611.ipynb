{
  "nbformat": 4,
  "nbformat_minor": 0,
  "metadata": {
    "colab": {
      "provenance": []
    },
    "kernelspec": {
      "name": "python3",
      "display_name": "Python 3"
    },
    "language_info": {
      "name": "python"
    }
  },
  "cells": [
    {
      "cell_type": "code",
      "source": [
        "import json"
      ],
      "metadata": {
        "id": "4Tt8J4h64G99"
      },
      "execution_count": 41,
      "outputs": []
    },
    {
      "cell_type": "code",
      "execution_count": 61,
      "metadata": {
        "id": "YtOVZAepzy1d"
      },
      "outputs": [],
      "source": [
        "class User:\n",
        "\n",
        "  special_characters = [\"*\", \"?\", \"!\", \"#\", \"&\", \"=\", \"(\", \")\", \"_\", \"-\"]\n",
        "\n",
        "  def __init__(self, name, email, password, second_password):\n",
        "    self.name = name\n",
        "    self.email = email\n",
        "    self.password = password\n",
        "    self.second_password = second_password\n",
        "\n",
        "    self.email = self.validate_email()\n",
        "    self.password = self.validate_password()\n",
        "\n",
        "  def validate_email(self):\n",
        "    email = self.email.lower()\n",
        "    email = email.replace(\" \", \"\")\n",
        "\n",
        "    email_parts = email.split(\"@\")\n",
        "\n",
        "    if len(email_parts) > 2:\n",
        "      raise ValueError(\"Email is not formatted correctly. Please try again.\")\n",
        "    \n",
        "    second_part = email_parts[1]\n",
        "\n",
        "    email_ending = second_part.split(\".\")\n",
        "\n",
        "    if len(email_ending) > 2:\n",
        "      raise ValueError(\"Email is not formatted correctly. Please try again.\")\n",
        "\n",
        "    return email\n",
        "\n",
        "  def validate_password(self):\n",
        "    # eliminate spaces\n",
        "    present_spaces = self.password.find(\" \")\n",
        "    if present_spaces > -1:\n",
        "      raise ValueError(\"Invalid password. Password contains spaces.\")\n",
        "    \n",
        "    # validate length\n",
        "    if len(self.password) < 8:\n",
        "      raise ValueError(\"Invalid password. Password too short. Minimum 8 characters required.\")\n",
        "    \n",
        "    # validate special characters\n",
        "    present_special = 0\n",
        "    present_digits = 0\n",
        "    present_upper = 0\n",
        "    for character in self.password:\n",
        "      if character in self.special_characters:\n",
        "        present_special += 1 # present_special_characters = present_special_characters + 1\n",
        "      \n",
        "      if character.isdigit():\n",
        "        present_digits += 1\n",
        "\n",
        "      if character.isupper():\n",
        "        present_upper += 1\n",
        "\n",
        "      if present_special and present_digits and present_upper:\n",
        "        break\n",
        "\n",
        "    if present_special == 0:\n",
        "      raise ValueError(\"Invalid password. Special characters are missing.\")\n",
        "\n",
        "    if present_digits == 0:\n",
        "      raise ValueError(\"Invalid password. Missing at least one digit.\")\n",
        "\n",
        "    if present_upper == 0:\n",
        "      raise ValueError(\"Invalid password. Missing at least one upper case letter.\")\n",
        "\n",
        "    return self.password\n",
        "\n",
        "  @classmethod\n",
        "  def from_dict(cls, user_dict):\n",
        "    user = cls(user_dict[\"name\"], user_dict[\"email\"], user_dict[\"password\"], user_dict[\"second_password\"])\n",
        "    return user\n",
        "\n",
        "  def to_dict(self):\n",
        "    user_dict = {\n",
        "        \"name\": self.name,\n",
        "        \"email\": self.email,\n",
        "        \"password\": self.password,\n",
        "        \"second_password\": self.second_password\n",
        "    }\n",
        "    return user_dict "
      ]
    },
    {
      "cell_type": "code",
      "source": [
        "user1 = User(\"A B\", \"a@b.c\", \"AAjfj3@@A--\", \"AAjfj3@@A--\")"
      ],
      "metadata": {
        "id": "dV8-lloJ0nd0"
      },
      "execution_count": 43,
      "outputs": []
    },
    {
      "cell_type": "code",
      "source": [
        "user1._email = \"\"\n",
        "user1._email"
      ],
      "metadata": {
        "colab": {
          "base_uri": "https://localhost:8080/",
          "height": 36
        },
        "id": "QDnmatxv0xRY",
        "outputId": "d69bb149-7267-43a7-d5a6-032c1f7ced7f"
      },
      "execution_count": 44,
      "outputs": [
        {
          "output_type": "execute_result",
          "data": {
            "text/plain": [
              "''"
            ],
            "application/vnd.google.colaboratory.intrinsic+json": {
              "type": "string"
            }
          },
          "metadata": {},
          "execution_count": 44
        }
      ]
    },
    {
      "cell_type": "code",
      "source": [
        "User.special_characters"
      ],
      "metadata": {
        "colab": {
          "base_uri": "https://localhost:8080/"
        },
        "id": "wMhikeV_00Iy",
        "outputId": "e9247c74-1598-4f34-b8f7-53b23fe1a302"
      },
      "execution_count": 45,
      "outputs": [
        {
          "output_type": "execute_result",
          "data": {
            "text/plain": [
              "['*', '?', '!', '#', '&', '=', '(', ')', '_', '-']"
            ]
          },
          "metadata": {},
          "execution_count": 45
        }
      ]
    },
    {
      "cell_type": "code",
      "source": [
        "class Authenticator:\n",
        "\n",
        "  def __init__(self, email, password, filename):\n",
        "    self.email = email\n",
        "    self.password = password\n",
        "    self.filename = filename\n",
        "    self.users = []\n",
        "    self.load_users()\n",
        "\n",
        "  def load_users(self):\n",
        "    with open(self.filename, \"r\") as f:\n",
        "      try:\n",
        "        users = json.load(f)\n",
        "        for user in users:\n",
        "          obj = User.from_dict(user)\n",
        "          self.users.append(obj)\n",
        "      except Exception as e:\n",
        "        self.users = []\n",
        "        print(\"--Warning. Users store is empty.\") \n",
        "\n",
        "  def find_user_by_email(self):\n",
        "    if self.users is None:\n",
        "      return \n",
        "\n",
        "    for user in self.users:\n",
        "      if user.email == self.email:\n",
        "        return user\n",
        "\n",
        "  def authenticate(self):\n",
        "    current_user = self.find_user_by_email()\n",
        "    if current_user is not None and current_user.password == self.password:\n",
        "      return True\n",
        "    \n",
        "    return False"
      ],
      "metadata": {
        "id": "Kr6hxD-P3Jnb"
      },
      "execution_count": 62,
      "outputs": []
    },
    {
      "cell_type": "code",
      "source": [
        "user2 = User(\"A C\", \"as@b.c\", \"AAjfj3@@A--\", \"AAjfj3@@A--\")"
      ],
      "metadata": {
        "id": "X8tR0YWf6HRP"
      },
      "execution_count": 47,
      "outputs": []
    },
    {
      "cell_type": "code",
      "source": [
        "authentificator = Authenticator(user2.email, user2.password, \"users.json\")\n",
        "authentificator.authenticate()"
      ],
      "metadata": {
        "colab": {
          "base_uri": "https://localhost:8080/"
        },
        "id": "xEvUaghm6NSj",
        "outputId": "8a08906c-7915-41e1-b63e-ad59f474ed55"
      },
      "execution_count": 48,
      "outputs": [
        {
          "output_type": "stream",
          "name": "stdout",
          "text": [
            "None\n",
            "None\n"
          ]
        },
        {
          "output_type": "execute_result",
          "data": {
            "text/plain": [
              "False"
            ]
          },
          "metadata": {},
          "execution_count": 48
        }
      ]
    },
    {
      "cell_type": "code",
      "source": [
        "def is_unique(user, all_users):\n",
        "  for existing_user in all_users:\n",
        "    if existing_user[\"email\"] == user[\"email\"]:\n",
        "      return False \n",
        "  \n",
        "  return True\n",
        "\n",
        "def save_to_file(user, filename):\n",
        "  # user[\"email\"] = validate_email(user[\"email\"])\n",
        "  # user[\"password\"] = validate_password(user[\"password\"])\n",
        "  if user[\"password\"] != user[\"second_password\"]: \n",
        "    raise ValueError(\"Password mismatch. Try again using the same password.\")\n",
        "\n",
        "  with open(filename, \"r\") as f:\n",
        "    try:\n",
        "      existing_users = json.load(f)\n",
        "    except Exception as e:\n",
        "      existing_users = []\n",
        "      print(\"--Warning. Empty file.\")\n",
        "      \n",
        "    if not is_unique(user, existing_users):\n",
        "      raise ValueError(\"User not unique\")\n",
        "\n",
        "  with open(filename, \"w\") as f:\n",
        "    existing_users.append(user)\n",
        "    json.dump(existing_users, f)"
      ],
      "metadata": {
        "id": "kiWGSCaP6pwb"
      },
      "execution_count": 49,
      "outputs": []
    },
    {
      "cell_type": "code",
      "source": [
        "request_body = {\n",
        "    \"name\": \"aB C\",\n",
        "    \"email\": \"sffy@c.com\",\n",
        "    \"password\": \"ysfhreA31!_-33\",\n",
        "    \"second_password\": \"ysfhreA31!_-33\"\n",
        "}\n",
        "save_to_file(request_body, \"users.json\")"
      ],
      "metadata": {
        "id": "WHIUi6XJ7SjV",
        "colab": {
          "base_uri": "https://localhost:8080/",
          "height": 321
        },
        "outputId": "a6bc703d-2e67-4d04-cc83-4b1d84a9fc22"
      },
      "execution_count": 50,
      "outputs": [
        {
          "output_type": "error",
          "ename": "ValueError",
          "evalue": "ignored",
          "traceback": [
            "\u001b[0;31m---------------------------------------------------------------------------\u001b[0m",
            "\u001b[0;31mValueError\u001b[0m                                Traceback (most recent call last)",
            "\u001b[0;32m<ipython-input-50-79497e6c7401>\u001b[0m in \u001b[0;36m<module>\u001b[0;34m\u001b[0m\n\u001b[1;32m      5\u001b[0m     \u001b[0;34m\"second_password\"\u001b[0m\u001b[0;34m:\u001b[0m \u001b[0;34m\"ysfhreA31!_-33\"\u001b[0m\u001b[0;34m\u001b[0m\u001b[0;34m\u001b[0m\u001b[0m\n\u001b[1;32m      6\u001b[0m }\n\u001b[0;32m----> 7\u001b[0;31m \u001b[0msave_to_file\u001b[0m\u001b[0;34m(\u001b[0m\u001b[0mrequest_body\u001b[0m\u001b[0;34m,\u001b[0m \u001b[0;34m\"users.json\"\u001b[0m\u001b[0;34m)\u001b[0m\u001b[0;34m\u001b[0m\u001b[0;34m\u001b[0m\u001b[0m\n\u001b[0m",
            "\u001b[0;32m<ipython-input-49-4b7ee70c3792>\u001b[0m in \u001b[0;36msave_to_file\u001b[0;34m(user, filename)\u001b[0m\n\u001b[1;32m     20\u001b[0m \u001b[0;34m\u001b[0m\u001b[0m\n\u001b[1;32m     21\u001b[0m     \u001b[0;32mif\u001b[0m \u001b[0;32mnot\u001b[0m \u001b[0mis_unique\u001b[0m\u001b[0;34m(\u001b[0m\u001b[0muser\u001b[0m\u001b[0;34m,\u001b[0m \u001b[0mexisting_users\u001b[0m\u001b[0;34m)\u001b[0m\u001b[0;34m:\u001b[0m\u001b[0;34m\u001b[0m\u001b[0;34m\u001b[0m\u001b[0m\n\u001b[0;32m---> 22\u001b[0;31m       \u001b[0;32mraise\u001b[0m \u001b[0mValueError\u001b[0m\u001b[0;34m(\u001b[0m\u001b[0;34m\"User not unique\"\u001b[0m\u001b[0;34m)\u001b[0m\u001b[0;34m\u001b[0m\u001b[0;34m\u001b[0m\u001b[0m\n\u001b[0m\u001b[1;32m     23\u001b[0m \u001b[0;34m\u001b[0m\u001b[0m\n\u001b[1;32m     24\u001b[0m   \u001b[0;32mwith\u001b[0m \u001b[0mopen\u001b[0m\u001b[0;34m(\u001b[0m\u001b[0mfilename\u001b[0m\u001b[0;34m,\u001b[0m \u001b[0;34m\"w\"\u001b[0m\u001b[0;34m)\u001b[0m \u001b[0;32mas\u001b[0m \u001b[0mf\u001b[0m\u001b[0;34m:\u001b[0m\u001b[0;34m\u001b[0m\u001b[0;34m\u001b[0m\u001b[0m\n",
            "\u001b[0;31mValueError\u001b[0m: User not unique"
          ]
        }
      ]
    },
    {
      "cell_type": "code",
      "source": [
        "user3 = User(\"aB C\", \"sy@c.com\", \"ysfheA31!_-33\", \"ysfhreA31!_-33\")\n",
        "authentificator = Authenticator(user3.email, user3.password, \"users.json\")\n",
        "authentificator.authenticate()"
      ],
      "metadata": {
        "colab": {
          "base_uri": "https://localhost:8080/"
        },
        "id": "CfQG8nwA7a-N",
        "outputId": "b7d07eed-2317-47ae-a11c-26eb569a294a"
      },
      "execution_count": 65,
      "outputs": [
        {
          "output_type": "execute_result",
          "data": {
            "text/plain": [
              "False"
            ]
          },
          "metadata": {},
          "execution_count": 65
        }
      ]
    }
  ]
}