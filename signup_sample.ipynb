{
  "nbformat": 4,
  "nbformat_minor": 0,
  "metadata": {
    "colab": {
      "provenance": []
    },
    "kernelspec": {
      "name": "python3",
      "display_name": "Python 3"
    },
    "language_info": {
      "name": "python"
    }
  },
  "cells": [
    {
      "cell_type": "code",
      "source": [
        "app_users = []"
      ],
      "metadata": {
        "id": "hXStU-6eFiXf"
      },
      "execution_count": null,
      "outputs": []
    },
    {
      "cell_type": "code",
      "execution_count": null,
      "metadata": {
        "id": "Yqd9sAhBE-ca"
      },
      "outputs": [],
      "source": [
        "user = []"
      ]
    },
    {
      "cell_type": "code",
      "source": [
        "request_body = {\n",
        "    \"name\": \"A B\",\n",
        "    \"email\": \"a@b.c\",\n",
        "    \"password\": \"yhreA31!_-\",\n",
        "    \"second_password\": \"yhreA31!_-\"\n",
        "}"
      ],
      "metadata": {
        "id": "Zag_HnviFOBF"
      },
      "execution_count": null,
      "outputs": []
    },
    {
      "cell_type": "code",
      "source": [
        "def validate_email(email):\n",
        "  email = email.lower()\n",
        "  email = email.replace(\" \", \"\")\n",
        "\n",
        "  email_parts = email.split(\"@\")\n",
        "\n",
        "  if len(email_parts) > 2:\n",
        "    raise ValueError(\"Email is not formatted correctly. Please try again.\")\n",
        "  \n",
        "  second_part = email_parts[1]\n",
        "\n",
        "  email_ending = second_part.split(\".\")\n",
        "\n",
        "  if len(email_ending) > 2:\n",
        "    raise ValueError(\"Email is not formatted correctly. Please try again.\")\n",
        "\n",
        "  return email"
      ],
      "metadata": {
        "id": "9aTVDv-QFQRd"
      },
      "execution_count": null,
      "outputs": []
    },
    {
      "cell_type": "code",
      "source": [
        "validate_email(request_body[\"email\"])"
      ],
      "metadata": {
        "colab": {
          "base_uri": "https://localhost:8080/",
          "height": 35
        },
        "id": "yufwUqliHFDl",
        "outputId": "f48ec819-a29c-403b-cd83-18cc6124fb5d"
      },
      "execution_count": null,
      "outputs": [
        {
          "output_type": "execute_result",
          "data": {
            "text/plain": [
              "'a@b.c'"
            ],
            "application/vnd.google.colaboratory.intrinsic+json": {
              "type": "string"
            }
          },
          "metadata": {},
          "execution_count": 62
        }
      ]
    },
    {
      "cell_type": "code",
      "source": [
        "validate_email(\"  a@b@c.com  \")"
      ],
      "metadata": {
        "colab": {
          "base_uri": "https://localhost:8080/",
          "height": 287
        },
        "id": "gK1mARj9H4Tc",
        "outputId": "d39d4f02-0133-481b-8c29-dc0070282153"
      },
      "execution_count": null,
      "outputs": [
        {
          "output_type": "error",
          "ename": "ValueError",
          "evalue": "ignored",
          "traceback": [
            "\u001b[0;31m---------------------------------------------------------------------------\u001b[0m",
            "\u001b[0;31mValueError\u001b[0m                                Traceback (most recent call last)",
            "\u001b[0;32m<ipython-input-63-554345e4f3dd>\u001b[0m in \u001b[0;36m<module>\u001b[0;34m\u001b[0m\n\u001b[0;32m----> 1\u001b[0;31m \u001b[0mvalidate_email\u001b[0m\u001b[0;34m(\u001b[0m\u001b[0;34m\"  a@b@c.com  \"\u001b[0m\u001b[0;34m)\u001b[0m\u001b[0;34m\u001b[0m\u001b[0;34m\u001b[0m\u001b[0m\n\u001b[0m",
            "\u001b[0;32m<ipython-input-61-decccc9d05bb>\u001b[0m in \u001b[0;36mvalidate_email\u001b[0;34m(email)\u001b[0m\n\u001b[1;32m      6\u001b[0m \u001b[0;34m\u001b[0m\u001b[0m\n\u001b[1;32m      7\u001b[0m   \u001b[0;32mif\u001b[0m \u001b[0mlen\u001b[0m\u001b[0;34m(\u001b[0m\u001b[0memail_parts\u001b[0m\u001b[0;34m)\u001b[0m \u001b[0;34m>\u001b[0m \u001b[0;36m2\u001b[0m\u001b[0;34m:\u001b[0m\u001b[0;34m\u001b[0m\u001b[0;34m\u001b[0m\u001b[0m\n\u001b[0;32m----> 8\u001b[0;31m     \u001b[0;32mraise\u001b[0m \u001b[0mValueError\u001b[0m\u001b[0;34m(\u001b[0m\u001b[0;34m\"Email is not formatted correctly. Please try again.\"\u001b[0m\u001b[0;34m)\u001b[0m\u001b[0;34m\u001b[0m\u001b[0;34m\u001b[0m\u001b[0m\n\u001b[0m\u001b[1;32m      9\u001b[0m \u001b[0;34m\u001b[0m\u001b[0m\n\u001b[1;32m     10\u001b[0m   \u001b[0msecond_part\u001b[0m \u001b[0;34m=\u001b[0m \u001b[0memail_parts\u001b[0m\u001b[0;34m[\u001b[0m\u001b[0;36m1\u001b[0m\u001b[0;34m]\u001b[0m\u001b[0;34m\u001b[0m\u001b[0;34m\u001b[0m\u001b[0m\n",
            "\u001b[0;31mValueError\u001b[0m: Email is not formatted correctly. Please try again."
          ]
        }
      ]
    },
    {
      "cell_type": "code",
      "source": [
        "validate_email(\"  AsBB @  b.  com   \")"
      ],
      "metadata": {
        "id": "vwrSsHdMH85k",
        "colab": {
          "base_uri": "https://localhost:8080/",
          "height": 35
        },
        "outputId": "ca36f13d-628e-486e-f97b-0bce0484695f"
      },
      "execution_count": null,
      "outputs": [
        {
          "output_type": "execute_result",
          "data": {
            "text/plain": [
              "'asbb@b.com'"
            ],
            "application/vnd.google.colaboratory.intrinsic+json": {
              "type": "string"
            }
          },
          "metadata": {},
          "execution_count": 64
        }
      ]
    },
    {
      "cell_type": "code",
      "source": [
        "special_characters = [\"*\", \"?\", \"!\", \"#\", \"&\", \"=\", \"(\", \")\", \"_\", \"-\"]\n",
        "\n",
        "def validate_password(password): \n",
        "  # eliminate spaces\n",
        "  present_spaces = password.find(\" \")\n",
        "  if present_spaces > -1:\n",
        "    raise ValueError(\"Invalid password. Password contains spaces.\")\n",
        "  \n",
        "  # validate length\n",
        "  if len(password) < 8:\n",
        "    raise ValueError(\"Invalid password. Password too short. Minimum 8 characters required.\")\n",
        "  \n",
        "  # validate special characters\n",
        "  present_special = 0\n",
        "  present_digits = 0\n",
        "  present_upper = 0\n",
        "  for character in password:\n",
        "    if character in special_characters:\n",
        "      present_special += 1 # present_special_characters = present_special_characters + 1\n",
        "    \n",
        "    if character.isdigit():\n",
        "      present_digits += 1\n",
        "\n",
        "    if character.isupper():\n",
        "      present_upper += 1\n",
        "\n",
        "    if present_special and present_digits and present_upper:\n",
        "      break\n",
        "\n",
        "  if present_special == 0:\n",
        "    raise ValueError(\"Invalid password. Special characters are missing.\")\n",
        "\n",
        "  if present_digits == 0:\n",
        "    raise ValueError(\"Invalid password. Missing at least one digit.\")\n",
        "\n",
        "  if present_upper == 0:\n",
        "    raise ValueError(\"Invalid password. Missing at least one upper case letter.\")\n",
        "\n",
        "  return password"
      ],
      "metadata": {
        "id": "cFziJfocIC_B"
      },
      "execution_count": null,
      "outputs": []
    },
    {
      "cell_type": "code",
      "source": [
        "validate_password(request_body[\"password\"])"
      ],
      "metadata": {
        "colab": {
          "base_uri": "https://localhost:8080/",
          "height": 35
        },
        "id": "EGZu-VrwKlQF",
        "outputId": "6a261ba3-60d4-44cc-9723-5c7092607565"
      },
      "execution_count": null,
      "outputs": [
        {
          "output_type": "execute_result",
          "data": {
            "text/plain": [
              "'yhreA31!_-'"
            ],
            "application/vnd.google.colaboratory.intrinsic+json": {
              "type": "string"
            }
          },
          "metadata": {},
          "execution_count": 66
        }
      ]
    },
    {
      "cell_type": "code",
      "source": [
        "validate_password(\"  A s ss asdr31 \")"
      ],
      "metadata": {
        "colab": {
          "base_uri": "https://localhost:8080/",
          "height": 287
        },
        "id": "gC8pcybLKmsn",
        "outputId": "d62bac4b-f9f6-4730-9214-1beab82a6428"
      },
      "execution_count": null,
      "outputs": [
        {
          "output_type": "error",
          "ename": "ValueError",
          "evalue": "ignored",
          "traceback": [
            "\u001b[0;31m---------------------------------------------------------------------------\u001b[0m",
            "\u001b[0;31mValueError\u001b[0m                                Traceback (most recent call last)",
            "\u001b[0;32m<ipython-input-67-42b3b714cf20>\u001b[0m in \u001b[0;36m<module>\u001b[0;34m\u001b[0m\n\u001b[0;32m----> 1\u001b[0;31m \u001b[0mvalidate_password\u001b[0m\u001b[0;34m(\u001b[0m\u001b[0;34m\"  A s ss asdr31 \"\u001b[0m\u001b[0;34m)\u001b[0m\u001b[0;34m\u001b[0m\u001b[0;34m\u001b[0m\u001b[0m\n\u001b[0m",
            "\u001b[0;32m<ipython-input-65-d00919a019f1>\u001b[0m in \u001b[0;36mvalidate_password\u001b[0;34m(password)\u001b[0m\n\u001b[1;32m      5\u001b[0m   \u001b[0mpresent_spaces\u001b[0m \u001b[0;34m=\u001b[0m \u001b[0mpassword\u001b[0m\u001b[0;34m.\u001b[0m\u001b[0mfind\u001b[0m\u001b[0;34m(\u001b[0m\u001b[0;34m\" \"\u001b[0m\u001b[0;34m)\u001b[0m\u001b[0;34m\u001b[0m\u001b[0;34m\u001b[0m\u001b[0m\n\u001b[1;32m      6\u001b[0m   \u001b[0;32mif\u001b[0m \u001b[0mpresent_spaces\u001b[0m \u001b[0;34m>\u001b[0m \u001b[0;34m-\u001b[0m\u001b[0;36m1\u001b[0m\u001b[0;34m:\u001b[0m\u001b[0;34m\u001b[0m\u001b[0;34m\u001b[0m\u001b[0m\n\u001b[0;32m----> 7\u001b[0;31m     \u001b[0;32mraise\u001b[0m \u001b[0mValueError\u001b[0m\u001b[0;34m(\u001b[0m\u001b[0;34m\"Invalid password. Password contains spaces.\"\u001b[0m\u001b[0;34m)\u001b[0m\u001b[0;34m\u001b[0m\u001b[0;34m\u001b[0m\u001b[0m\n\u001b[0m\u001b[1;32m      8\u001b[0m \u001b[0;34m\u001b[0m\u001b[0m\n\u001b[1;32m      9\u001b[0m   \u001b[0;31m# validate length\u001b[0m\u001b[0;34m\u001b[0m\u001b[0;34m\u001b[0m\u001b[0;34m\u001b[0m\u001b[0m\n",
            "\u001b[0;31mValueError\u001b[0m: Invalid password. Password contains spaces."
          ]
        }
      ]
    },
    {
      "cell_type": "code",
      "source": [
        "validate_password(\"Ajd!!@@\")"
      ],
      "metadata": {
        "colab": {
          "base_uri": "https://localhost:8080/",
          "height": 304
        },
        "id": "n6rbw9jUMzj-",
        "outputId": "038e486e-3a05-4ed3-87e6-6d46140a4037"
      },
      "execution_count": null,
      "outputs": [
        {
          "output_type": "error",
          "ename": "ValueError",
          "evalue": "ignored",
          "traceback": [
            "\u001b[0;31m---------------------------------------------------------------------------\u001b[0m",
            "\u001b[0;31mValueError\u001b[0m                                Traceback (most recent call last)",
            "\u001b[0;32m<ipython-input-68-d7b769735336>\u001b[0m in \u001b[0;36m<module>\u001b[0;34m\u001b[0m\n\u001b[0;32m----> 1\u001b[0;31m \u001b[0mvalidate_password\u001b[0m\u001b[0;34m(\u001b[0m\u001b[0;34m\"Ajd!!@@\"\u001b[0m\u001b[0;34m)\u001b[0m\u001b[0;34m\u001b[0m\u001b[0;34m\u001b[0m\u001b[0m\n\u001b[0m",
            "\u001b[0;32m<ipython-input-65-d00919a019f1>\u001b[0m in \u001b[0;36mvalidate_password\u001b[0;34m(password)\u001b[0m\n\u001b[1;32m      9\u001b[0m   \u001b[0;31m# validate length\u001b[0m\u001b[0;34m\u001b[0m\u001b[0;34m\u001b[0m\u001b[0;34m\u001b[0m\u001b[0m\n\u001b[1;32m     10\u001b[0m   \u001b[0;32mif\u001b[0m \u001b[0mlen\u001b[0m\u001b[0;34m(\u001b[0m\u001b[0mpassword\u001b[0m\u001b[0;34m)\u001b[0m \u001b[0;34m<\u001b[0m \u001b[0;36m8\u001b[0m\u001b[0;34m:\u001b[0m\u001b[0;34m\u001b[0m\u001b[0;34m\u001b[0m\u001b[0m\n\u001b[0;32m---> 11\u001b[0;31m     \u001b[0;32mraise\u001b[0m \u001b[0mValueError\u001b[0m\u001b[0;34m(\u001b[0m\u001b[0;34m\"Invalid password. Password too short. Minimum 8 characters required.\"\u001b[0m\u001b[0;34m)\u001b[0m\u001b[0;34m\u001b[0m\u001b[0;34m\u001b[0m\u001b[0m\n\u001b[0m\u001b[1;32m     12\u001b[0m \u001b[0;34m\u001b[0m\u001b[0m\n\u001b[1;32m     13\u001b[0m   \u001b[0;31m# validate special characters\u001b[0m\u001b[0;34m\u001b[0m\u001b[0;34m\u001b[0m\u001b[0;34m\u001b[0m\u001b[0m\n",
            "\u001b[0;31mValueError\u001b[0m: Invalid password. Password too short. Minimum 8 characters required."
          ]
        }
      ]
    },
    {
      "cell_type": "code",
      "source": [
        "def save_in_memory(user, app_users):\n",
        "  user[\"email\"] = validate_email(user[\"email\"])\n",
        "  user[\"password\"] = validate_password(user[\"password\"])\n",
        "  if user[\"password\"] != user[\"second_password\"]: \n",
        "    raise ValueError(\"Password mismatch. Try again using the same password.\")\n",
        "\n",
        "  if not is_unique(user, app_users):\n",
        "    raise ValueError(\"User is not unique.\")\n",
        "  \n",
        "  app_users.append(user)\n",
        "\n",
        "  return app_users\n",
        "\n",
        "def is_unique(user, all_users):\n",
        "  for existing_user in all_users:\n",
        "    if existing_user[\"email\"] == user[\"email\"]:\n",
        "      return False \n",
        "  \n",
        "  return True"
      ],
      "metadata": {
        "id": "eJcsI_XMM20C"
      },
      "execution_count": null,
      "outputs": []
    },
    {
      "cell_type": "code",
      "source": [
        "all_users = save_in_memory(request_body, app_users)\n",
        "print(all_users)"
      ],
      "metadata": {
        "colab": {
          "base_uri": "https://localhost:8080/"
        },
        "id": "0LpYbV8BOkqX",
        "outputId": "3ed0d3cb-1d36-44c7-9913-322f3412f5c8"
      },
      "execution_count": null,
      "outputs": [
        {
          "output_type": "stream",
          "name": "stdout",
          "text": [
            "[{'name': 'A B', 'email': 'a@b.c', 'password': 'yhreA31!_-', 'second_password': 'yhreA31!_-'}]\n"
          ]
        }
      ]
    },
    {
      "cell_type": "code",
      "source": [
        "all_users = save_in_memory(request_body, app_users)\n",
        "print(all_users)"
      ],
      "metadata": {
        "colab": {
          "base_uri": "https://localhost:8080/",
          "height": 304
        },
        "id": "gqre5IbLOp-t",
        "outputId": "d8a5a113-f4d5-4227-ac6f-8208a1024235"
      },
      "execution_count": null,
      "outputs": [
        {
          "output_type": "error",
          "ename": "ValueError",
          "evalue": "ignored",
          "traceback": [
            "\u001b[0;31m---------------------------------------------------------------------------\u001b[0m",
            "\u001b[0;31mValueError\u001b[0m                                Traceback (most recent call last)",
            "\u001b[0;32m<ipython-input-71-237c47c648dc>\u001b[0m in \u001b[0;36m<module>\u001b[0;34m\u001b[0m\n\u001b[0;32m----> 1\u001b[0;31m \u001b[0mall_users\u001b[0m \u001b[0;34m=\u001b[0m \u001b[0msave_in_memory\u001b[0m\u001b[0;34m(\u001b[0m\u001b[0mrequest_body\u001b[0m\u001b[0;34m,\u001b[0m \u001b[0mapp_users\u001b[0m\u001b[0;34m)\u001b[0m\u001b[0;34m\u001b[0m\u001b[0;34m\u001b[0m\u001b[0m\n\u001b[0m\u001b[1;32m      2\u001b[0m \u001b[0mprint\u001b[0m\u001b[0;34m(\u001b[0m\u001b[0mall_users\u001b[0m\u001b[0;34m)\u001b[0m\u001b[0;34m\u001b[0m\u001b[0;34m\u001b[0m\u001b[0m\n",
            "\u001b[0;32m<ipython-input-69-2d58d6b321a9>\u001b[0m in \u001b[0;36msave_in_memory\u001b[0;34m(user, app_users)\u001b[0m\n\u001b[1;32m      6\u001b[0m \u001b[0;34m\u001b[0m\u001b[0m\n\u001b[1;32m      7\u001b[0m   \u001b[0;32mif\u001b[0m \u001b[0;32mnot\u001b[0m \u001b[0mis_unique\u001b[0m\u001b[0;34m(\u001b[0m\u001b[0muser\u001b[0m\u001b[0;34m,\u001b[0m \u001b[0mapp_users\u001b[0m\u001b[0;34m)\u001b[0m\u001b[0;34m:\u001b[0m\u001b[0;34m\u001b[0m\u001b[0;34m\u001b[0m\u001b[0m\n\u001b[0;32m----> 8\u001b[0;31m     \u001b[0;32mraise\u001b[0m \u001b[0mValueError\u001b[0m\u001b[0;34m(\u001b[0m\u001b[0;34m\"User is not unique.\"\u001b[0m\u001b[0;34m)\u001b[0m\u001b[0;34m\u001b[0m\u001b[0;34m\u001b[0m\u001b[0m\n\u001b[0m\u001b[1;32m      9\u001b[0m \u001b[0;34m\u001b[0m\u001b[0m\n\u001b[1;32m     10\u001b[0m   \u001b[0mapp_users\u001b[0m\u001b[0;34m.\u001b[0m\u001b[0mappend\u001b[0m\u001b[0;34m(\u001b[0m\u001b[0muser\u001b[0m\u001b[0;34m)\u001b[0m\u001b[0;34m\u001b[0m\u001b[0;34m\u001b[0m\u001b[0m\n",
            "\u001b[0;31mValueError\u001b[0m: User is not unique."
          ]
        }
      ]
    },
    {
      "cell_type": "code",
      "source": [
        "import json \n",
        "\n",
        "def save_to_file(user, filename):\n",
        "  user[\"email\"] = validate_email(user[\"email\"])\n",
        "  user[\"password\"] = validate_password(user[\"password\"])\n",
        "  if user[\"password\"] != user[\"second_password\"]: \n",
        "    raise ValueError(\"Password mismatch. Try again using the same password.\")\n",
        "\n",
        "  with open(filename, \"r\") as f:\n",
        "    existing_users = json.load(f)\n",
        "    \n",
        "    if not is_unique(user, existing_users):\n",
        "      raise ValueError(\"User not unique\")\n",
        "\n",
        "  with open(filename, \"w\") as f:\n",
        "    existing_users.append(user)\n",
        "    json.dump(existing_users, f)"
      ],
      "metadata": {
        "id": "bUchZsAIOxRw"
      },
      "execution_count": 97,
      "outputs": []
    },
    {
      "cell_type": "code",
      "source": [
        "save_to_file(request_body, \"users_database.json\")"
      ],
      "metadata": {
        "colab": {
          "base_uri": "https://localhost:8080/",
          "height": 286
        },
        "id": "wwCjlZu4Phe9",
        "outputId": "056fc096-2daf-4ac7-eca6-c18d820e520b"
      },
      "execution_count": 105,
      "outputs": [
        {
          "output_type": "error",
          "ename": "ValueError",
          "evalue": "ignored",
          "traceback": [
            "\u001b[0;31m---------------------------------------------------------------------------\u001b[0m",
            "\u001b[0;31mValueError\u001b[0m                                Traceback (most recent call last)",
            "\u001b[0;32m<ipython-input-105-71ff15fd5d32>\u001b[0m in \u001b[0;36m<module>\u001b[0;34m\u001b[0m\n\u001b[0;32m----> 1\u001b[0;31m \u001b[0msave_to_file\u001b[0m\u001b[0;34m(\u001b[0m\u001b[0mrequest_body\u001b[0m\u001b[0;34m,\u001b[0m \u001b[0;34m\"users_database.json\"\u001b[0m\u001b[0;34m)\u001b[0m\u001b[0;34m\u001b[0m\u001b[0;34m\u001b[0m\u001b[0m\n\u001b[0m",
            "\u001b[0;32m<ipython-input-97-d7a6dab12e6b>\u001b[0m in \u001b[0;36msave_to_file\u001b[0;34m(user, filename)\u001b[0m\n\u001b[1;32m     11\u001b[0m \u001b[0;34m\u001b[0m\u001b[0m\n\u001b[1;32m     12\u001b[0m     \u001b[0;32mif\u001b[0m \u001b[0;32mnot\u001b[0m \u001b[0mis_unique\u001b[0m\u001b[0;34m(\u001b[0m\u001b[0muser\u001b[0m\u001b[0;34m,\u001b[0m \u001b[0mexisting_users\u001b[0m\u001b[0;34m)\u001b[0m\u001b[0;34m:\u001b[0m\u001b[0;34m\u001b[0m\u001b[0;34m\u001b[0m\u001b[0m\n\u001b[0;32m---> 13\u001b[0;31m       \u001b[0;32mraise\u001b[0m \u001b[0mValueError\u001b[0m\u001b[0;34m(\u001b[0m\u001b[0;34m\"User not unique\"\u001b[0m\u001b[0;34m)\u001b[0m\u001b[0;34m\u001b[0m\u001b[0;34m\u001b[0m\u001b[0m\n\u001b[0m\u001b[1;32m     14\u001b[0m \u001b[0;34m\u001b[0m\u001b[0m\n\u001b[1;32m     15\u001b[0m   \u001b[0;32mwith\u001b[0m \u001b[0mopen\u001b[0m\u001b[0;34m(\u001b[0m\u001b[0mfilename\u001b[0m\u001b[0;34m,\u001b[0m \u001b[0;34m\"w\"\u001b[0m\u001b[0;34m)\u001b[0m \u001b[0;32mas\u001b[0m \u001b[0mf\u001b[0m\u001b[0;34m:\u001b[0m\u001b[0;34m\u001b[0m\u001b[0;34m\u001b[0m\u001b[0m\n",
            "\u001b[0;31mValueError\u001b[0m: User not unique"
          ]
        }
      ]
    },
    {
      "cell_type": "code",
      "source": [
        "request_body = {\n",
        "    \"name\": \"B C\",\n",
        "    \"email\": \"y@c.com\",\n",
        "    \"password\": \"ysfhreA31!_-33\",\n",
        "    \"second_password\": \"ysfhreA31!_-33\"\n",
        "}\n",
        "save_to_file(request_body, \"users_database.json\")"
      ],
      "metadata": {
        "id": "P5hga6IWPp56"
      },
      "execution_count": 104,
      "outputs": []
    },
    {
      "cell_type": "code",
      "source": [
        "json.dumps(request_body) + \"\\n\""
      ],
      "metadata": {
        "id": "D2aZElbR17J_",
        "colab": {
          "base_uri": "https://localhost:8080/",
          "height": 35
        },
        "outputId": "50d9946c-4264-4e31-a9f6-b89739f837f0"
      },
      "execution_count": 92,
      "outputs": [
        {
          "output_type": "execute_result",
          "data": {
            "text/plain": [
              "'{\"name\": \"B C\", \"email\": \"a@c.com\", \"password\": \"ysfhreA31!_-33\", \"second_password\": \"ysfhreA31!_-33\"}\\n'"
            ],
            "application/vnd.google.colaboratory.intrinsic+json": {
              "type": "string"
            }
          },
          "metadata": {},
          "execution_count": 92
        }
      ]
    },
    {
      "cell_type": "code",
      "source": [
        "with open(\"users_database.json\", \"w\") as f:\n",
        "  json.dump([request_body], f)"
      ],
      "metadata": {
        "id": "7oriA91i4H6P"
      },
      "execution_count": 99,
      "outputs": []
    },
    {
      "cell_type": "code",
      "source": [],
      "metadata": {
        "id": "Dc1Sz-1F4z7A"
      },
      "execution_count": null,
      "outputs": []
    }
  ]
}