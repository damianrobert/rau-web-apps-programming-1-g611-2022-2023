{
  "cells": [
    {
      "cell_type": "code",
      "execution_count": null,
      "metadata": {
        "id": "hXStU-6eFiXf"
      },
      "outputs": [],
      "source": [
        "app_users = []"
      ]
    },
    {
      "cell_type": "code",
      "execution_count": null,
      "metadata": {
        "id": "Yqd9sAhBE-ca"
      },
      "outputs": [],
      "source": [
        "user = []"
      ]
    },
    {
      "cell_type": "code",
      "execution_count": null,
      "metadata": {
        "id": "Zag_HnviFOBF"
      },
      "outputs": [],
      "source": [
        "request_body = {\n",
        "    \"name\": \"A B\",\n",
        "    \"email\": \"a@b.c\",\n",
        "    \"password\": \"yhreA31!_-\",\n",
        "    \"second_password\": \"yhreA31!_-\"\n",
        "}"
      ]
    },
    {
      "cell_type": "code",
      "execution_count": null,
      "metadata": {
        "id": "9aTVDv-QFQRd"
      },
      "outputs": [],
      "source": [
        "def validate_email(email):\n",
        "  email = email.lower()\n",
        "  email = email.replace(\" \", \"\")\n",
        "\n",
        "  email_parts = email.split(\"@\")\n",
        "\n",
        "  if len(email_parts) > 2:\n",
        "    raise ValueError(\"Email is not formatted correctly. Please try again.\")\n",
        "  \n",
        "  second_part = email_parts[1]\n",
        "\n",
        "  email_ending = second_part.split(\".\")\n",
        "\n",
        "  if len(email_ending) > 2:\n",
        "    raise ValueError(\"Email is not formatted correctly. Please try again.\")\n",
        "\n",
        "  return email"
      ]
    },
    {
      "cell_type": "code",
      "execution_count": null,
      "metadata": {
        "colab": {
          "base_uri": "https://localhost:8080/",
          "height": 35
        },
        "id": "yufwUqliHFDl",
        "outputId": "f48ec819-a29c-403b-cd83-18cc6124fb5d"
      },
      "outputs": [
        {
          "data": {
            "application/vnd.google.colaboratory.intrinsic+json": {
              "type": "string"
            },
            "text/plain": [
              "'a@b.c'"
            ]
          },
          "execution_count": 62,
          "metadata": {},
          "output_type": "execute_result"
        }
      ],
      "source": [
        "validate_email(request_body[\"email\"])"
      ]
    },
    {
      "cell_type": "code",
      "execution_count": null,
      "metadata": {
        "colab": {
          "base_uri": "https://localhost:8080/",
          "height": 287
        },
        "id": "gK1mARj9H4Tc",
        "outputId": "d39d4f02-0133-481b-8c29-dc0070282153"
      },
      "outputs": [
        {
          "ename": "ValueError",
          "evalue": "ignored",
          "output_type": "error",
          "traceback": [
            "\u001b[0;31m---------------------------------------------------------------------------\u001b[0m",
            "\u001b[0;31mValueError\u001b[0m                                Traceback (most recent call last)",
            "\u001b[0;32m<ipython-input-63-554345e4f3dd>\u001b[0m in \u001b[0;36m<module>\u001b[0;34m\u001b[0m\n\u001b[0;32m----> 1\u001b[0;31m \u001b[0mvalidate_email\u001b[0m\u001b[0;34m(\u001b[0m\u001b[0;34m\"  a@b@c.com  \"\u001b[0m\u001b[0;34m)\u001b[0m\u001b[0;34m\u001b[0m\u001b[0;34m\u001b[0m\u001b[0m\n\u001b[0m",
            "\u001b[0;32m<ipython-input-61-decccc9d05bb>\u001b[0m in \u001b[0;36mvalidate_email\u001b[0;34m(email)\u001b[0m\n\u001b[1;32m      6\u001b[0m \u001b[0;34m\u001b[0m\u001b[0m\n\u001b[1;32m      7\u001b[0m   \u001b[0;32mif\u001b[0m \u001b[0mlen\u001b[0m\u001b[0;34m(\u001b[0m\u001b[0memail_parts\u001b[0m\u001b[0;34m)\u001b[0m \u001b[0;34m>\u001b[0m \u001b[0;36m2\u001b[0m\u001b[0;34m:\u001b[0m\u001b[0;34m\u001b[0m\u001b[0;34m\u001b[0m\u001b[0m\n\u001b[0;32m----> 8\u001b[0;31m     \u001b[0;32mraise\u001b[0m \u001b[0mValueError\u001b[0m\u001b[0;34m(\u001b[0m\u001b[0;34m\"Email is not formatted correctly. Please try again.\"\u001b[0m\u001b[0;34m)\u001b[0m\u001b[0;34m\u001b[0m\u001b[0;34m\u001b[0m\u001b[0m\n\u001b[0m\u001b[1;32m      9\u001b[0m \u001b[0;34m\u001b[0m\u001b[0m\n\u001b[1;32m     10\u001b[0m   \u001b[0msecond_part\u001b[0m \u001b[0;34m=\u001b[0m \u001b[0memail_parts\u001b[0m\u001b[0;34m[\u001b[0m\u001b[0;36m1\u001b[0m\u001b[0;34m]\u001b[0m\u001b[0;34m\u001b[0m\u001b[0;34m\u001b[0m\u001b[0m\n",
            "\u001b[0;31mValueError\u001b[0m: Email is not formatted correctly. Please try again."
          ]
        }
      ],
      "source": [
        "validate_email(\"  a@b@c.com  \")"
      ]
    },
    {
      "cell_type": "code",
      "execution_count": null,
      "metadata": {
        "colab": {
          "base_uri": "https://localhost:8080/",
          "height": 35
        },
        "id": "vwrSsHdMH85k",
        "outputId": "ca36f13d-628e-486e-f97b-0bce0484695f"
      },
      "outputs": [
        {
          "data": {
            "application/vnd.google.colaboratory.intrinsic+json": {
              "type": "string"
            },
            "text/plain": [
              "'asbb@b.com'"
            ]
          },
          "execution_count": 64,
          "metadata": {},
          "output_type": "execute_result"
        }
      ],
      "source": [
        "validate_email(\"  AsBB @  b.  com   \")"
      ]
    },
    {
      "cell_type": "code",
      "execution_count": null,
      "metadata": {
        "id": "cFziJfocIC_B"
      },
      "outputs": [],
      "source": [
        "special_characters = [\"*\", \"?\", \"!\", \"#\", \"&\", \"=\", \"(\", \")\", \"_\", \"-\"]\n",
        "\n",
        "def validate_password(password): \n",
        "  # eliminate spaces\n",
        "  present_spaces = password.find(\" \")\n",
        "  if present_spaces > -1:\n",
        "    raise ValueError(\"Invalid password. Password contains spaces.\")\n",
        "  \n",
        "  # validate length\n",
        "  if len(password) < 8:\n",
        "    raise ValueError(\"Invalid password. Password too short. Minimum 8 characters required.\")\n",
        "  \n",
        "  # validate special characters\n",
        "  present_special = 0\n",
        "  present_digits = 0\n",
        "  present_upper = 0\n",
        "  for character in password:\n",
        "    if character in special_characters:\n",
        "      present_special += 1 # present_special_characters = present_special_characters + 1\n",
        "    \n",
        "    if character.isdigit():\n",
        "      present_digits += 1\n",
        "\n",
        "    if character.isupper():\n",
        "      present_upper += 1\n",
        "\n",
        "    if present_special and present_digits and present_upper:\n",
        "      break\n",
        "\n",
        "  if present_special == 0:\n",
        "    raise ValueError(\"Invalid password. Special characters are missing.\")\n",
        "\n",
        "  if present_digits == 0:\n",
        "    raise ValueError(\"Invalid password. Missing at least one digit.\")\n",
        "\n",
        "  if present_upper == 0:\n",
        "    raise ValueError(\"Invalid password. Missing at least one upper case letter.\")\n",
        "\n",
        "  return password"
      ]
    },
    {
      "cell_type": "code",
      "execution_count": null,
      "metadata": {
        "colab": {
          "base_uri": "https://localhost:8080/",
          "height": 35
        },
        "id": "EGZu-VrwKlQF",
        "outputId": "6a261ba3-60d4-44cc-9723-5c7092607565"
      },
      "outputs": [
        {
          "data": {
            "application/vnd.google.colaboratory.intrinsic+json": {
              "type": "string"
            },
            "text/plain": [
              "'yhreA31!_-'"
            ]
          },
          "execution_count": 66,
          "metadata": {},
          "output_type": "execute_result"
        }
      ],
      "source": [
        "validate_password(request_body[\"password\"])"
      ]
    },
    {
      "cell_type": "code",
      "execution_count": null,
      "metadata": {
        "colab": {
          "base_uri": "https://localhost:8080/",
          "height": 287
        },
        "id": "gC8pcybLKmsn",
        "outputId": "d62bac4b-f9f6-4730-9214-1beab82a6428"
      },
      "outputs": [
        {
          "ename": "ValueError",
          "evalue": "ignored",
          "output_type": "error",
          "traceback": [
            "\u001b[0;31m---------------------------------------------------------------------------\u001b[0m",
            "\u001b[0;31mValueError\u001b[0m                                Traceback (most recent call last)",
            "\u001b[0;32m<ipython-input-67-42b3b714cf20>\u001b[0m in \u001b[0;36m<module>\u001b[0;34m\u001b[0m\n\u001b[0;32m----> 1\u001b[0;31m \u001b[0mvalidate_password\u001b[0m\u001b[0;34m(\u001b[0m\u001b[0;34m\"  A s ss asdr31 \"\u001b[0m\u001b[0;34m)\u001b[0m\u001b[0;34m\u001b[0m\u001b[0;34m\u001b[0m\u001b[0m\n\u001b[0m",
            "\u001b[0;32m<ipython-input-65-d00919a019f1>\u001b[0m in \u001b[0;36mvalidate_password\u001b[0;34m(password)\u001b[0m\n\u001b[1;32m      5\u001b[0m   \u001b[0mpresent_spaces\u001b[0m \u001b[0;34m=\u001b[0m \u001b[0mpassword\u001b[0m\u001b[0;34m.\u001b[0m\u001b[0mfind\u001b[0m\u001b[0;34m(\u001b[0m\u001b[0;34m\" \"\u001b[0m\u001b[0;34m)\u001b[0m\u001b[0;34m\u001b[0m\u001b[0;34m\u001b[0m\u001b[0m\n\u001b[1;32m      6\u001b[0m   \u001b[0;32mif\u001b[0m \u001b[0mpresent_spaces\u001b[0m \u001b[0;34m>\u001b[0m \u001b[0;34m-\u001b[0m\u001b[0;36m1\u001b[0m\u001b[0;34m:\u001b[0m\u001b[0;34m\u001b[0m\u001b[0;34m\u001b[0m\u001b[0m\n\u001b[0;32m----> 7\u001b[0;31m     \u001b[0;32mraise\u001b[0m \u001b[0mValueError\u001b[0m\u001b[0;34m(\u001b[0m\u001b[0;34m\"Invalid password. Password contains spaces.\"\u001b[0m\u001b[0;34m)\u001b[0m\u001b[0;34m\u001b[0m\u001b[0;34m\u001b[0m\u001b[0m\n\u001b[0m\u001b[1;32m      8\u001b[0m \u001b[0;34m\u001b[0m\u001b[0m\n\u001b[1;32m      9\u001b[0m   \u001b[0;31m# validate length\u001b[0m\u001b[0;34m\u001b[0m\u001b[0;34m\u001b[0m\u001b[0;34m\u001b[0m\u001b[0m\n",
            "\u001b[0;31mValueError\u001b[0m: Invalid password. Password contains spaces."
          ]
        }
      ],
      "source": [
        "validate_password(\"  A s ss asdr31 \")"
      ]
    },
    {
      "cell_type": "code",
      "execution_count": null,
      "metadata": {
        "colab": {
          "base_uri": "https://localhost:8080/",
          "height": 304
        },
        "id": "n6rbw9jUMzj-",
        "outputId": "038e486e-3a05-4ed3-87e6-6d46140a4037"
      },
      "outputs": [
        {
          "ename": "ValueError",
          "evalue": "ignored",
          "output_type": "error",
          "traceback": [
            "\u001b[0;31m---------------------------------------------------------------------------\u001b[0m",
            "\u001b[0;31mValueError\u001b[0m                                Traceback (most recent call last)",
            "\u001b[0;32m<ipython-input-68-d7b769735336>\u001b[0m in \u001b[0;36m<module>\u001b[0;34m\u001b[0m\n\u001b[0;32m----> 1\u001b[0;31m \u001b[0mvalidate_password\u001b[0m\u001b[0;34m(\u001b[0m\u001b[0;34m\"Ajd!!@@\"\u001b[0m\u001b[0;34m)\u001b[0m\u001b[0;34m\u001b[0m\u001b[0;34m\u001b[0m\u001b[0m\n\u001b[0m",
            "\u001b[0;32m<ipython-input-65-d00919a019f1>\u001b[0m in \u001b[0;36mvalidate_password\u001b[0;34m(password)\u001b[0m\n\u001b[1;32m      9\u001b[0m   \u001b[0;31m# validate length\u001b[0m\u001b[0;34m\u001b[0m\u001b[0;34m\u001b[0m\u001b[0;34m\u001b[0m\u001b[0m\n\u001b[1;32m     10\u001b[0m   \u001b[0;32mif\u001b[0m \u001b[0mlen\u001b[0m\u001b[0;34m(\u001b[0m\u001b[0mpassword\u001b[0m\u001b[0;34m)\u001b[0m \u001b[0;34m<\u001b[0m \u001b[0;36m8\u001b[0m\u001b[0;34m:\u001b[0m\u001b[0;34m\u001b[0m\u001b[0;34m\u001b[0m\u001b[0m\n\u001b[0;32m---> 11\u001b[0;31m     \u001b[0;32mraise\u001b[0m \u001b[0mValueError\u001b[0m\u001b[0;34m(\u001b[0m\u001b[0;34m\"Invalid password. Password too short. Minimum 8 characters required.\"\u001b[0m\u001b[0;34m)\u001b[0m\u001b[0;34m\u001b[0m\u001b[0;34m\u001b[0m\u001b[0m\n\u001b[0m\u001b[1;32m     12\u001b[0m \u001b[0;34m\u001b[0m\u001b[0m\n\u001b[1;32m     13\u001b[0m   \u001b[0;31m# validate special characters\u001b[0m\u001b[0;34m\u001b[0m\u001b[0;34m\u001b[0m\u001b[0;34m\u001b[0m\u001b[0m\n",
            "\u001b[0;31mValueError\u001b[0m: Invalid password. Password too short. Minimum 8 characters required."
          ]
        }
      ],
      "source": [
        "validate_password(\"Ajd!!@@\")"
      ]
    },
    {
      "cell_type": "code",
      "execution_count": null,
      "metadata": {
        "id": "eJcsI_XMM20C"
      },
      "outputs": [],
      "source": [
        "def save_in_memory(user, app_users):\n",
        "  user[\"email\"] = validate_email(user[\"email\"])\n",
        "  user[\"password\"] = validate_password(user[\"password\"])\n",
        "  if user[\"password\"] != user[\"second_password\"]: \n",
        "    raise ValueError(\"Password mismatch. Try again using the same password.\")\n",
        "\n",
        "  if not is_unique(user, app_users):\n",
        "    raise ValueError(\"User is not unique.\")\n",
        "  \n",
        "  app_users.append(user)\n",
        "\n",
        "  return app_users\n",
        "\n",
        "def is_unique(user, all_users):\n",
        "  for existing_user in all_users:\n",
        "    if existing_user[\"email\"] == user[\"email\"]:\n",
        "      return False \n",
        "  \n",
        "  return True"
      ]
    },
    {
      "cell_type": "code",
      "execution_count": null,
      "metadata": {
        "colab": {
          "base_uri": "https://localhost:8080/"
        },
        "id": "0LpYbV8BOkqX",
        "outputId": "3ed0d3cb-1d36-44c7-9913-322f3412f5c8"
      },
      "outputs": [
        {
          "name": "stdout",
          "output_type": "stream",
          "text": [
            "[{'name': 'A B', 'email': 'a@b.c', 'password': 'yhreA31!_-', 'second_password': 'yhreA31!_-'}]\n"
          ]
        }
      ],
      "source": [
        "all_users = save_in_memory(request_body, app_users)\n",
        "print(all_users)"
      ]
    },
    {
      "cell_type": "code",
      "execution_count": null,
      "metadata": {
        "colab": {
          "base_uri": "https://localhost:8080/",
          "height": 304
        },
        "id": "gqre5IbLOp-t",
        "outputId": "d8a5a113-f4d5-4227-ac6f-8208a1024235"
      },
      "outputs": [
        {
          "ename": "ValueError",
          "evalue": "ignored",
          "output_type": "error",
          "traceback": [
            "\u001b[0;31m---------------------------------------------------------------------------\u001b[0m",
            "\u001b[0;31mValueError\u001b[0m                                Traceback (most recent call last)",
            "\u001b[0;32m<ipython-input-71-237c47c648dc>\u001b[0m in \u001b[0;36m<module>\u001b[0;34m\u001b[0m\n\u001b[0;32m----> 1\u001b[0;31m \u001b[0mall_users\u001b[0m \u001b[0;34m=\u001b[0m \u001b[0msave_in_memory\u001b[0m\u001b[0;34m(\u001b[0m\u001b[0mrequest_body\u001b[0m\u001b[0;34m,\u001b[0m \u001b[0mapp_users\u001b[0m\u001b[0;34m)\u001b[0m\u001b[0;34m\u001b[0m\u001b[0;34m\u001b[0m\u001b[0m\n\u001b[0m\u001b[1;32m      2\u001b[0m \u001b[0mprint\u001b[0m\u001b[0;34m(\u001b[0m\u001b[0mall_users\u001b[0m\u001b[0;34m)\u001b[0m\u001b[0;34m\u001b[0m\u001b[0;34m\u001b[0m\u001b[0m\n",
            "\u001b[0;32m<ipython-input-69-2d58d6b321a9>\u001b[0m in \u001b[0;36msave_in_memory\u001b[0;34m(user, app_users)\u001b[0m\n\u001b[1;32m      6\u001b[0m \u001b[0;34m\u001b[0m\u001b[0m\n\u001b[1;32m      7\u001b[0m   \u001b[0;32mif\u001b[0m \u001b[0;32mnot\u001b[0m \u001b[0mis_unique\u001b[0m\u001b[0;34m(\u001b[0m\u001b[0muser\u001b[0m\u001b[0;34m,\u001b[0m \u001b[0mapp_users\u001b[0m\u001b[0;34m)\u001b[0m\u001b[0;34m:\u001b[0m\u001b[0;34m\u001b[0m\u001b[0;34m\u001b[0m\u001b[0m\n\u001b[0;32m----> 8\u001b[0;31m     \u001b[0;32mraise\u001b[0m \u001b[0mValueError\u001b[0m\u001b[0;34m(\u001b[0m\u001b[0;34m\"User is not unique.\"\u001b[0m\u001b[0;34m)\u001b[0m\u001b[0;34m\u001b[0m\u001b[0;34m\u001b[0m\u001b[0m\n\u001b[0m\u001b[1;32m      9\u001b[0m \u001b[0;34m\u001b[0m\u001b[0m\n\u001b[1;32m     10\u001b[0m   \u001b[0mapp_users\u001b[0m\u001b[0;34m.\u001b[0m\u001b[0mappend\u001b[0m\u001b[0;34m(\u001b[0m\u001b[0muser\u001b[0m\u001b[0;34m)\u001b[0m\u001b[0;34m\u001b[0m\u001b[0;34m\u001b[0m\u001b[0m\n",
            "\u001b[0;31mValueError\u001b[0m: User is not unique."
          ]
        }
      ],
      "source": [
        "all_users = save_in_memory(request_body, app_users)\n",
        "print(all_users)"
      ]
    },
    {
      "cell_type": "code",
      "execution_count": 97,
      "metadata": {
        "id": "bUchZsAIOxRw"
      },
      "outputs": [],
      "source": [
        "import json \n",
        "\n",
        "def save_to_file(user, filename):\n",
        "  user[\"email\"] = validate_email(user[\"email\"])\n",
        "  user[\"password\"] = validate_password(user[\"password\"])\n",
        "  if user[\"password\"] != user[\"second_password\"]: \n",
        "    raise ValueError(\"Password mismatch. Try again using the same password.\")\n",
        "\n",
        "  with open(filename, \"r\") as f:\n",
        "    existing_users = json.load(f)\n",
        "    \n",
        "    if not is_unique(user, existing_users):\n",
        "      raise ValueError(\"User not unique\")\n",
        "\n",
        "  with open(filename, \"w\") as f:\n",
        "    existing_users.append(user)\n",
        "    json.dump(existing_users, f)"
      ]
    },
    {
      "cell_type": "code",
      "execution_count": 105,
      "metadata": {
        "colab": {
          "base_uri": "https://localhost:8080/",
          "height": 286
        },
        "id": "wwCjlZu4Phe9",
        "outputId": "056fc096-2daf-4ac7-eca6-c18d820e520b"
      },
      "outputs": [
        {
          "ename": "ValueError",
          "evalue": "ignored",
          "output_type": "error",
          "traceback": [
            "\u001b[0;31m---------------------------------------------------------------------------\u001b[0m",
            "\u001b[0;31mValueError\u001b[0m                                Traceback (most recent call last)",
            "\u001b[0;32m<ipython-input-105-71ff15fd5d32>\u001b[0m in \u001b[0;36m<module>\u001b[0;34m\u001b[0m\n\u001b[0;32m----> 1\u001b[0;31m \u001b[0msave_to_file\u001b[0m\u001b[0;34m(\u001b[0m\u001b[0mrequest_body\u001b[0m\u001b[0;34m,\u001b[0m \u001b[0;34m\"users_database.json\"\u001b[0m\u001b[0;34m)\u001b[0m\u001b[0;34m\u001b[0m\u001b[0;34m\u001b[0m\u001b[0m\n\u001b[0m",
            "\u001b[0;32m<ipython-input-97-d7a6dab12e6b>\u001b[0m in \u001b[0;36msave_to_file\u001b[0;34m(user, filename)\u001b[0m\n\u001b[1;32m     11\u001b[0m \u001b[0;34m\u001b[0m\u001b[0m\n\u001b[1;32m     12\u001b[0m     \u001b[0;32mif\u001b[0m \u001b[0;32mnot\u001b[0m \u001b[0mis_unique\u001b[0m\u001b[0;34m(\u001b[0m\u001b[0muser\u001b[0m\u001b[0;34m,\u001b[0m \u001b[0mexisting_users\u001b[0m\u001b[0;34m)\u001b[0m\u001b[0;34m:\u001b[0m\u001b[0;34m\u001b[0m\u001b[0;34m\u001b[0m\u001b[0m\n\u001b[0;32m---> 13\u001b[0;31m       \u001b[0;32mraise\u001b[0m \u001b[0mValueError\u001b[0m\u001b[0;34m(\u001b[0m\u001b[0;34m\"User not unique\"\u001b[0m\u001b[0;34m)\u001b[0m\u001b[0;34m\u001b[0m\u001b[0;34m\u001b[0m\u001b[0m\n\u001b[0m\u001b[1;32m     14\u001b[0m \u001b[0;34m\u001b[0m\u001b[0m\n\u001b[1;32m     15\u001b[0m   \u001b[0;32mwith\u001b[0m \u001b[0mopen\u001b[0m\u001b[0;34m(\u001b[0m\u001b[0mfilename\u001b[0m\u001b[0;34m,\u001b[0m \u001b[0;34m\"w\"\u001b[0m\u001b[0;34m)\u001b[0m \u001b[0;32mas\u001b[0m \u001b[0mf\u001b[0m\u001b[0;34m:\u001b[0m\u001b[0;34m\u001b[0m\u001b[0;34m\u001b[0m\u001b[0m\n",
            "\u001b[0;31mValueError\u001b[0m: User not unique"
          ]
        }
      ],
      "source": [
        "save_to_file(request_body, \"users_database.json\")"
      ]
    },
    {
      "cell_type": "code",
      "execution_count": 104,
      "metadata": {
        "id": "P5hga6IWPp56"
      },
      "outputs": [],
      "source": [
        "request_body = {\n",
        "    \"name\": \"B C\",\n",
        "    \"email\": \"y@c.com\",\n",
        "    \"password\": \"ysfhreA31!_-33\",\n",
        "    \"second_password\": \"ysfhreA31!_-33\"\n",
        "}\n",
        "save_to_file(request_body, \"users_database.json\")"
      ]
    },
    {
      "cell_type": "code",
      "execution_count": 92,
      "metadata": {
        "colab": {
          "base_uri": "https://localhost:8080/",
          "height": 35
        },
        "id": "D2aZElbR17J_",
        "outputId": "50d9946c-4264-4e31-a9f6-b89739f837f0"
      },
      "outputs": [
        {
          "data": {
            "application/vnd.google.colaboratory.intrinsic+json": {
              "type": "string"
            },
            "text/plain": [
              "'{\"name\": \"B C\", \"email\": \"a@c.com\", \"password\": \"ysfhreA31!_-33\", \"second_password\": \"ysfhreA31!_-33\"}\\n'"
            ]
          },
          "execution_count": 92,
          "metadata": {},
          "output_type": "execute_result"
        }
      ],
      "source": [
        "json.dumps(request_body) + \"\\n\""
      ]
    },
    {
      "cell_type": "code",
      "execution_count": 99,
      "metadata": {
        "id": "7oriA91i4H6P"
      },
      "outputs": [],
      "source": [
        "with open(\"users_database.json\", \"w\") as f:\n",
        "  json.dump([request_body], f)"
      ]
    },
    {
      "cell_type": "code",
      "execution_count": null,
      "metadata": {
        "id": "Dc1Sz-1F4z7A"
      },
      "outputs": [],
      "source": []
    }
  ],
  "metadata": {
    "colab": {
      "provenance": []
    },
    "kernelspec": {
      "display_name": "Python 3",
      "language": "python",
      "name": "python3"
    },
    "language_info": {
      "name": "python",
      "version": "3.11.1 (tags/v3.11.1:a7a450f, Dec  6 2022, 19:58:39) [MSC v.1934 64 bit (AMD64)]"
    },
    "vscode": {
      "interpreter": {
        "hash": "b6edf66d7ea047db53926048e864daf22db2b86dbf11196a59aa117d3126b10b"
      }
    }
  },
  "nbformat": 4,
  "nbformat_minor": 0
}
